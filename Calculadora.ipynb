{
 "cells": [
  {
   "cell_type": "code",
   "execution_count": 7,
   "metadata": {},
   "outputs": [],
   "source": [
    "import tkinter as tk\n",
    "\n",
    "# Função para atualizar a expressão na tela\n",
    "def atualizar_tela(valor):\n",
    "    tela.config(text=tela[\"text\"] + str(valor))\n",
    "\n",
    "# Função para calcular o resultado\n",
    "def calcular():\n",
    "    try:\n",
    "        resultado = str(eval(tela[\"text\"]))\n",
    "        tela.config(text=resultado)\n",
    "    except:\n",
    "        tela.config(text=\"Erro\")\n",
    "\n",
    "# Função para limpar a tela\n",
    "def limpar():\n",
    "    tela.config(text=\"\")\n",
    "\n",
    "# Crie a janela principal\n",
    "janela = tk.Tk()\n",
    "janela.title(\"Calculadora\")\n",
    "\n",
    "# Crie um rótulo para exibir a expressão\n",
    "tela = tk.Label(janela, text=\"\", width=20, height=2, relief=\"ridge\")\n",
    "tela.grid(row=0, column=0, columnspan=4)\n",
    "\n",
    "# Crie os botões numéricos e operadores\n",
    "botoes = [\n",
    "    \"7\", \"8\", \"9\", \"/\",\n",
    "    \"4\", \"5\", \"6\", \"*\",\n",
    "    \"1\", \"2\", \"3\", \"-\",\n",
    "    \"0\", \".\", \"+\"\n",
    "]\n",
    "\n",
    "# Adicione os botões à interface gráfica\n",
    "linha = 1\n",
    "coluna = 0\n",
    "for botao in botoes:\n",
    "    tk.Button(janela, text=botao, width=5, height=2, command=lambda b=botao: atualizar_tela(b)).grid(row=linha, column=coluna)\n",
    "    coluna += 1\n",
    "    if coluna > 3:\n",
    "        coluna = 0\n",
    "        linha += 1\n",
    "\n",
    "# Adicione os botões de Limpar e Calcular\n",
    "tk.Button(janela, text=\"C\", width=5, height=2, command=limpar).grid(row=5, column=0)\n",
    "tk.Button(janela, text=\"=\", width=5, height=2, command=calcular).grid(row=5, column=1, columnspan=3)\n",
    "\n",
    "# Inicie o loop da interface gráfica\n",
    "janela.mainloop()"
   ]
  }
 ],
 "metadata": {
  "kernelspec": {
   "display_name": "Python 3",
   "language": "python",
   "name": "python3"
  },
  "language_info": {
   "codemirror_mode": {
    "name": "ipython",
    "version": 3
   },
   "file_extension": ".py",
   "mimetype": "text/x-python",
   "name": "python",
   "nbconvert_exporter": "python",
   "pygments_lexer": "ipython3",
   "version": "3.11.4"
  },
  "orig_nbformat": 4
 },
 "nbformat": 4,
 "nbformat_minor": 2
}
