{
 "cells": [
  {
   "cell_type": "code",
   "execution_count": 1,
   "metadata": {},
   "outputs": [
    {
     "name": "stdout",
     "output_type": "stream",
     "text": [
      "Alo mundo\n"
     ]
    }
   ],
   "source": [
    "#Faça um Programa que mostre a mensagem \"Alo mundo\" na tela.\n",
    "print(\"Alo mundo\")"
   ]
  },
  {
   "cell_type": "code",
   "execution_count": 7,
   "metadata": {},
   "outputs": [
    {
     "name": "stdout",
     "output_type": "stream",
     "text": [
      " O numero digitado foi 5\n",
      "o numero digitado foi 5\n"
     ]
    },
    {
     "data": {
      "text/plain": [
       "'5'"
      ]
     },
     "execution_count": 7,
     "metadata": {},
     "output_type": "execute_result"
    }
   ],
   "source": [
    "#Faça um Programa que peça um número e então mostre a mensagem O número informado foi [número].\n",
    "numero = input(\"Digite seu Numero\")\n",
    "print(\" O numero digitado foi\",numero)\n",
    "print(f'o numero digitado foi',numero)\n"
   ]
  },
  {
   "cell_type": "code",
   "execution_count": 9,
   "metadata": {},
   "outputs": [
    {
     "name": "stdout",
     "output_type": "stream",
     "text": [
      " o resultado da soma:  15\n"
     ]
    }
   ],
   "source": [
    "#Faça um Programa que peça dois números e imprima a soma.\n",
    "n1 = int(input(\"digite o primeiro numero\"))\n",
    "n2 = int(input(\"digite o segundo numero\"))\n",
    "soma = n1 + n2\n",
    "print(f' o resultado da soma: ', soma)"
   ]
  },
  {
   "cell_type": "code",
   "execution_count": 14,
   "metadata": {},
   "outputs": [
    {
     "name": "stdout",
     "output_type": "stream",
     "text": [
      "Sua media foi de:  7.0\n"
     ]
    }
   ],
   "source": [
    "#Faça um Programa que peça as 4 notas bimestrais e mostre a média.\n",
    "nota1 = float(input(\"digite o primeira nota\"))\n",
    "nota2 = float(input(\"digite o segunda nota\"))\n",
    "nota3 = float(input(\"digite o terceira nota\"))\n",
    "nota4 = float(input(\"digite o quarta nota\"))\n",
    "media = (nota1 + nota2 + nota3 + nota4) / 4 \n",
    "print(f'Sua media foi de: ',media)"
   ]
  },
  {
   "cell_type": "code",
   "execution_count": 36,
   "metadata": {},
   "outputs": [
    {
     "name": "stdout",
     "output_type": "stream",
     "text": [
      "2 metros, equivalem a 200 centimetros\n"
     ]
    }
   ],
   "source": [
    "# Faça um Programa que converta metros para centímetros.\n",
    "\n",
    "def calcular_centimetros(metros):\n",
    "    converter = metros * 100\n",
    "    print(f\"{metros} metros, equivalem a {converter} centimetros\")\n",
    "\n",
    "calcular_centimetros(2)"
   ]
  },
  {
   "cell_type": "code",
   "execution_count": 37,
   "metadata": {},
   "outputs": [
    {
     "name": "stdout",
     "output_type": "stream",
     "text": [
      "A área do círculo com raio 5.0 é 78.54\n"
     ]
    }
   ],
   "source": [
    "#Faça um Programa que peça o raio de um círculo, calcule e mostre sua área.\n",
    "import math\n",
    "\n",
    "raio = float(input(\"Digite o raio do círculo: \"))\n",
    "area = math.pi * raio ** 2\n",
    "\n",
    "print(f\"A área do círculo com raio {raio} é {area:.2f}\")"
   ]
  },
  {
   "cell_type": "code",
   "execution_count": null,
   "metadata": {},
   "outputs": [],
   "source": [
    "#Faça um Programa que calcule a área de um quadrado, em seguida mostre o dobro desta área para o usuário.\n",
    "lado = float(input(\"Digite o lado do quadrado: \"))\n",
    "area = lado ** 2\n",
    "dobro_area = 2 * area\n",
    "\n",
    "print(f\"A área do quadrado é {area} e o dobro da área é {dobro_area}\")"
   ]
  },
  {
   "cell_type": "code",
   "execution_count": 48,
   "metadata": {},
   "outputs": [
    {
     "name": "stdout",
     "output_type": "stream",
     "text": [
      "O Salario a ser pago e de: R$4004.00\n"
     ]
    }
   ],
   "source": [
    "#Faça um Programa que pergunte quanto você ganha por hora e o número de horas trabalhadas no mês. Calcule e mostre o total do seu salário no referido mês.\n",
    "\n",
    "hora_trabalhada = int(input(\"Quantas horas foram trabalhadas\"))\n",
    "valor_hora = float(input(\"Digite o valor da hora trabalhada\"))\n",
    "calculo = hora_trabalhada * valor_hora\n",
    "print(f\"O Salario a ser pago e de: R${calculo:.2f}\")"
   ]
  },
  {
   "cell_type": "code",
   "execution_count": 62,
   "metadata": {},
   "outputs": [
    {
     "name": "stdout",
     "output_type": "stream",
     "text": [
      "1 graus, equivalem a 33.8 Fahrenheit\n"
     ]
    }
   ],
   "source": [
    "#Faça um Programa que peça a temperatura em graus Fahrenheit, transforme e mostre a temperatura em graus Celsius.\n",
    "#C = 5 * ((F-32) / 9).\n",
    "def converter_celsius(Celsius):\n",
    "    Converter_graus = (Celsius * 9/5) + 32\n",
    "    print(f\"{Celsius} graus, equivalem a {Converter_graus} Fahrenheit\")\n",
    "\n",
    "converter_celsius(1)\n"
   ]
  },
  {
   "cell_type": "code",
   "execution_count": 63,
   "metadata": {},
   "outputs": [
    {
     "name": "stdout",
     "output_type": "stream",
     "text": [
      "5 graus, equivalem a 41.0 Fahrenheit\n"
     ]
    }
   ],
   "source": [
    "#Faça um Programa que peça a temperatura em graus Celsius, transforme e mostre em graus Fahrenheit.\n",
    "\n",
    "Graus = int(input(\"Digite quantos graus voce deseja converter\"))\n",
    "\n",
    "converter_celsius(Graus)\n"
   ]
  },
  {
   "cell_type": "code",
   "execution_count": 1,
   "metadata": {},
   "outputs": [
    {
     "name": "stdout",
     "output_type": "stream",
     "text": [
      "Soma dos números inteiros: 3\n",
      "Produto dos números inteiros: 2\n",
      "Divisão do primeiro número inteiro pelo número real: 0.2\n"
     ]
    }
   ],
   "source": [
    "#Faça um Programa que peça 2 números inteiros e um número real. Calcule e mostre:\n",
    "numero_inteiro1 = int(input(\"Digite o primeiro número inteiro: \"))\n",
    "numero_inteiro2 = int(input(\"Digite o segundo número inteiro: \"))\n",
    "numero_real = float(input(\"Digite um número real: \"))\n",
    "\n",
    "produto_dobro_primeiro_metade_segundo = (2 * numero_inteiro1) * (numero_inteiro2 / 2)\n",
    "soma_triplo_primeiro_terceiro = (3 * numero_inteiro1) + numero_real\n",
    "terceiro_elevado_cubo = numero_real ** 3\n",
    "\n",
    "# Mostra os resultados\n",
    "print(\"Produto do dobro do primeiro com metade do segundo:\", produto_dobro_primeiro_metade_segundo)\n",
    "print(\"Soma do triplo do primeiro com o terceiro:\", soma_triplo_primeiro_terceiro)\n",
    "print(\"Terceiro número elevado ao cubo:\", terceiro_elevado_cubo)"
   ]
  },
  {
   "cell_type": "code",
   "execution_count": 2,
   "metadata": {},
   "outputs": [
    {
     "name": "stdout",
     "output_type": "stream",
     "text": [
      "O peso ideal para a altura de 1.60 metros é 58.32 kg.\n"
     ]
    }
   ],
   "source": [
    "#Tendo como dados de entrada a altura de uma pessoa, construa um algoritmo que calcule seu peso ideal, usando a seguinte fórmula: (72.7*altura) - 58\n",
    "\n",
    "\n",
    "altura = float(input(\"Digite a altura da pessoa em metros: \"))\n",
    "peso_ideal = (72.7 * altura) - 58\n",
    "print(\"O peso ideal para a altura de {:.2f} metros é {:.2f} kg.\".format(altura, peso_ideal))\n",
    "\n"
   ]
  },
  {
   "cell_type": "code",
   "execution_count": 4,
   "metadata": {},
   "outputs": [
    {
     "name": "stdout",
     "output_type": "stream",
     "text": [
      "O peso ideal para a altura de 1.60 metros é 54.66 kg.\n"
     ]
    }
   ],
   "source": [
    "#Tendo como dado de entrada a altura (h) de uma pessoa, construa um algoritmo que calcule seu peso ideal, utilizando as seguintes fórmulas:\n",
    "#Para homens: (72.7*h) - 58\n",
    "#Para mulheres: (62.1*h) - 44.7\n",
    "\n",
    "altura = float(input(\"Digite a altura da pessoa em metros: \"))\n",
    "genero = str(input(\"Voce e homem ou mulher\"))\n",
    "if genero == \"homem\":\n",
    "    peso_ideal = (72.7*altura) - 58\n",
    "    print(\"O peso ideal para a altura de {:.2f} metros é {:.2f} kg.\".format(altura, peso_ideal))\n",
    "else:\n",
    "    peso_ideal = (62.1*altura) - 44.7\n",
    "    print(\"O peso ideal para a altura de {:.2f} metros é {:.2f} kg.\".format(altura, peso_ideal))\n",
    "\n"
   ]
  },
  {
   "cell_type": "code",
   "execution_count": 9,
   "metadata": {},
   "outputs": [
    {
     "name": "stdout",
     "output_type": "stream",
     "text": [
      "Peso de peixes: 100.0 kg\n",
      "Limite de peso sem multa: 50.0 kg\n",
      "Excesso de peso: 50.0 kg\n",
      "Valor da multa: R$ 200.0\n"
     ]
    }
   ],
   "source": [
    "#João Papo-de-Pescador, homem de bem, comprou um microcomputador para controlar o rendimento diário de seu trabalho. \n",
    "#Toda vez que ele traz um peso de peixes maior que o estabelecido pelo regulamento de pesca do estado de São Paulo (50 quilos) deve pagar uma multa de R$ 4,00 por quilo excedente. \n",
    "#João precisa que você faça um programa que leia a variável peso (peso de peixes) e calcule o excesso. \n",
    "#Gravar na variável excesso a quantidade de quilos além do limite e na variável multa o valor da multa que João deverá pagar. Imprima os dados do programa com as mensagens adequadas.\n",
    "\n",
    "peso = float(input(\"Digite o peso de peixes em quilos: \"))\n",
    "\n",
    "limite_peso = 50.0\n",
    "\n",
    "\n",
    "if peso > limite_peso:\n",
    "    excesso = peso - limite_peso\n",
    "    valor_multa = excesso * 4.0\n",
    "else:\n",
    "    excesso = 0\n",
    "    valor_multa = 0\n",
    "\n",
    "\n",
    "print(\"Peso de peixes:\", peso, \"kg\")\n",
    "print(\"Limite de peso sem multa:\", limite_peso, \"kg\")\n",
    "print(\"Excesso de peso:\", excesso, \"kg\")\n",
    "print(\"Valor da multa: R$\", valor_multa)\n",
    "\n"
   ]
  },
  {
   "cell_type": "code",
   "execution_count": 20,
   "metadata": {},
   "outputs": [
    {
     "name": "stdout",
     "output_type": "stream",
     "text": [
      "Salario Bruto: R$ 4900.0\n",
      "Desconto de IR : -R$ 539.0\n",
      "Desconto de INSS : -R$ 392.0\n",
      "Desconto de Sindicato : -R$ 245.0\n",
      "Salario liquido a receber :R$ 3724.0\n"
     ]
    }
   ],
   "source": [
    "#Faça um Programa que pergunte quanto você ganha por hora e o número de horas trabalhadas no mês. Calcule e mostre o total do seu salário no referido mês, sabendo-se que são descontados 11% para o Imposto de Renda, 8% para o INSS e 5% para o sindicato, faça um programa que nos dê:\n",
    "#salário bruto.\n",
    "#quanto pagou ao INSS.\n",
    "#quanto pagou ao sindicato.\n",
    "#o salário líquido.\n",
    "#calcule os descontos e o salário líquido, conforme a tabela abaixo:\n",
    "\n",
    "hora = int(input(\"Quantas horas foram trabalhadas\"))\n",
    "valor_hora_trabalhada = float(input(\"Digite o valor da hora trabalhada\"))\n",
    "\n",
    "S_bruto = hora * valor_hora_trabalhada\n",
    "ir = S_bruto * 0.11\n",
    "inss = S_bruto * 0.08\n",
    "Sindicato = S_bruto * 0.05\n",
    "S_liquido = S_bruto - ir - inss - Sindicato\n",
    "\n",
    "print(f'Salario Bruto: R$',S_bruto)\n",
    "print(f'Desconto de IR : -R$',ir)\n",
    "print(f'Desconto de INSS : -R$',inss)\n",
    "print(f'Desconto de Sindicato : -R$',Sindicato)\n",
    "print(f'Salario liquido a receber :R$',S_liquido)\n",
    "\n"
   ]
  }
 ],
 "metadata": {
  "kernelspec": {
   "display_name": "Python 3",
   "language": "python",
   "name": "python3"
  },
  "language_info": {
   "codemirror_mode": {
    "name": "ipython",
    "version": 3
   },
   "file_extension": ".py",
   "mimetype": "text/x-python",
   "name": "python",
   "nbconvert_exporter": "python",
   "pygments_lexer": "ipython3",
   "version": "3.11.4"
  },
  "orig_nbformat": 4
 },
 "nbformat": 4,
 "nbformat_minor": 2
}
