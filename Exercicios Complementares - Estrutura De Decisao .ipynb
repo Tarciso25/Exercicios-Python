{
 "cells": [
  {
   "cell_type": "code",
   "execution_count": 3,
   "metadata": {},
   "outputs": [
    {
     "name": "stdout",
     "output_type": "stream",
     "text": [
      "20 e maior que 60\n"
     ]
    }
   ],
   "source": [
    "#Faça um Programa que peça dois números e imprima o maior deles.\n",
    "A = int(input('digite um numero inteiro'))\n",
    "B = int(input('digite um numero inteiro'))\n",
    "\n",
    "if A <  B:\n",
    "    print(f'{A} e maior que {B}')\n",
    "else:\n",
    "    print(f'{B} e menor que {A}')\n"
   ]
  },
  {
   "cell_type": "code",
   "execution_count": 7,
   "metadata": {},
   "outputs": [
    {
     "name": "stdout",
     "output_type": "stream",
     "text": [
      "-41.0 VALOR NEGATIVO\n"
     ]
    }
   ],
   "source": [
    "#Faça um Programa que peça um valor e mostre na tela se o valor é positivo ou negativo.\n",
    "VALOR = float(input(\"Digite um valor\"))\n",
    "\n",
    "if VALOR < 0:\n",
    "    print(f'{VALOR} VALOR NEGATIVO')\n",
    "else:\n",
    "    print(f'{VALOR} VALOR POSITIVO')"
   ]
  },
  {
   "cell_type": "code",
   "execution_count": 13,
   "metadata": {},
   "outputs": [
    {
     "name": "stdout",
     "output_type": "stream",
     "text": [
      "Sexo Invalido\n"
     ]
    }
   ],
   "source": [
    "#Faça um Programa que verifique se uma letra digitada é \"F\" ou \"M\". Conforme a letra escrever: F - Feminino, M - Masculino, Sexo Inválido.\n",
    "\n",
    "letra = str(input(\"digite F ou M\")).upper()\n",
    "\n",
    "if letra == 'F':\n",
    "    print('feminino')\n",
    "elif letra == 'M': \n",
    "    print('masculino')\n",
    "else:\n",
    "    print('Sexo Invalido')    "
   ]
  },
  {
   "cell_type": "code",
   "execution_count": 25,
   "metadata": {},
   "outputs": [
    {
     "name": "stdout",
     "output_type": "stream",
     "text": [
      "Consoante\n"
     ]
    }
   ],
   "source": [
    "#Faça um Programa que verifique se uma letra digitada é vogal ou consoante.\n",
    "\n",
    "letra_digitada = input(\"Digite uma letra: \").upper()\n",
    "\n",
    "if letra_digitada in \"AEIOU\":\n",
    "    print(\"Vogal\")\n",
    "else:\n",
    "    print(\"Consoante\")\n",
    "\n"
   ]
  },
  {
   "cell_type": "code",
   "execution_count": 29,
   "metadata": {},
   "outputs": [
    {
     "name": "stdout",
     "output_type": "stream",
     "text": [
      "Aprovado com Distinção\n"
     ]
    }
   ],
   "source": [
    "#Faça um programa para a leitura de duas notas parciais de um aluno. O programa deve calcular a média alcançada por aluno e apresentar:\n",
    "#A mensagem \"Aprovado\", se a média alcançada for maior ou igual a sete;\n",
    "#A mensagem \"Reprovado\", se a média for menor do que sete;\n",
    "#A mensagem \"Aprovado com Distinção\", se a média for igual a dez.\n",
    "\n",
    "nota1 = float(input(\"Digite a 1ªnota: \"))\n",
    "nota2 = float(input(\"Digite a 1ªnota: \"))\n",
    "media = (nota1 + nota2) / 2\n",
    "\n",
    "if media == 10:\n",
    "    print(\"Aprovado com Distinção\")\n",
    "elif media >= 7:\n",
    "    print(\"Aprovado\")\n",
    "else:\n",
    "    print(\"Reprovado\")     \n",
    "      "
   ]
  },
  {
   "cell_type": "code",
   "execution_count": 32,
   "metadata": {},
   "outputs": [
    {
     "name": "stdout",
     "output_type": "stream",
     "text": [
      "O maior número é 9\n"
     ]
    }
   ],
   "source": [
    "#Faça um Programa que leia três números e mostre o maior deles.\n",
    "n1 = int(input(\"Digite o primeiro numero\"))\n",
    "n2 = int(input(\"Digite o segundo numero\"))\n",
    "n3 = int(input(\"Digite o terceiro numero\"))\n",
    "\n",
    "if n1 > n2 and n1 > n3:\n",
    "    print(f\"O maior número é {n1}\")\n",
    "elif n2 > n1 and n2 > n3:\n",
    "    print(f\"O maior número é {n2}\")\n",
    "else:\n",
    "    print(f\"O maior número é {n3}\")\n"
   ]
  },
  {
   "cell_type": "code",
   "execution_count": null,
   "metadata": {},
   "outputs": [],
   "source": [
    "#Faça um Programa que leia três números e mostre o maior e o menor deles.\n",
    "n1 = int(input(\"Digite o primeiro numero\"))\n",
    "n2 = int(input(\"Digite o segundo numero\"))\n",
    "n3 = int(input(\"Digite o terceiro numero\"))\n",
    "\n",
    "maior_numero = max(n1, n2, n3)\n",
    "menor_numero = min(n1, n2, n3)\n",
    "\n",
    "print(f\"O maior número é {maior_numero}\")\n",
    "print(f\"O menor número é {menor_numero}\")\n"
   ]
  },
  {
   "cell_type": "code",
   "execution_count": 34,
   "metadata": {},
   "outputs": [
    {
     "name": "stdout",
     "output_type": "stream",
     "text": [
      "O maior valor e de: 9.6\n",
      "O menor valor e de: 2.5\n"
     ]
    }
   ],
   "source": [
    "#Faça um programa que pergunte o preço de três produtos e informe qual produto você deve comprar, sabendo que a decisão é sempre pelo mais barato.\n",
    "p1 = float(input(\"Digite o valor do 1ºpruduto: \"))\n",
    "p2 = float(input(\"Digite o valor do 2ºpruduto: \"))\n",
    "p3 = float(input(\"Digite o valor do 3ºpruduto: \"))\n",
    "\n",
    "maior_preço = max(p1, p2, p3)\n",
    "menor_preço = min(p1, p2, p3)\n",
    "\n",
    "print(f\"O maior valor e de: {maior_preço}\")\n",
    "print(f\"O menor valor e de: {menor_preço}\")"
   ]
  },
  {
   "cell_type": "code",
   "execution_count": 36,
   "metadata": {},
   "outputs": [
    {
     "name": "stdout",
     "output_type": "stream",
     "text": [
      "[25.0, 60.0, 789.0]\n"
     ]
    }
   ],
   "source": [
    "#Faça um Programa que leia três números e mostre-os em ordem decrescente.\n",
    "\n",
    "n1 = float(input(\"Digite o primeiro número: \"))\n",
    "n2 = float(input(\"Digite o segundo número: \"))\n",
    "n3 = float(input(\"Digite o terceiro número: \"))\n",
    "\n",
    "numeros = [n1, n2, n3]\n",
    "\n",
    "numeros_ordenados = sorted(numeros, reverse = True)\n",
    "\n",
    "print(numeros_ordenados)\n"
   ]
  },
  {
   "cell_type": "code",
   "execution_count": null,
   "metadata": {},
   "outputs": [],
   "source": [
    "#Faça um Programa que pergunte em que turno você estuda. Peça para digitar M-matutino ou V-Vespertino ou N- Noturno. Imprima a mensagem \"Bom Dia!\", \"Boa Tarde!\" ou \"Boa Noite!\" ou \"Valor Inválido!\", conforme o caso.\n",
    "turno = input(\"Em que turno você estuda (M - Matutino, V - Vespertino, N - Noturno): \").upper()\n",
    "\n",
    "if turno == 'M':\n",
    "    print(\"Bom Dia!\")\n",
    "elif turno == 'V':\n",
    "    print(\"Boa Tarde!\")\n",
    "elif turno == 'N':\n",
    "    print(\"Boa Noite!\")\n",
    "else:\n",
    "    print(\"Valor Inválido! Por favor, digite M, V ou N.\")"
   ]
  }
 ],
 "metadata": {
  "kernelspec": {
   "display_name": "Python 3",
   "language": "python",
   "name": "python3"
  },
  "language_info": {
   "codemirror_mode": {
    "name": "ipython",
    "version": 3
   },
   "file_extension": ".py",
   "mimetype": "text/x-python",
   "name": "python",
   "nbconvert_exporter": "python",
   "pygments_lexer": "ipython3",
   "version": "3.11.4"
  },
  "orig_nbformat": 4
 },
 "nbformat": 4,
 "nbformat_minor": 2
}
